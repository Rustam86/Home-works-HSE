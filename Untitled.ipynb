{
  "cells": [
    {
      "cell_type": "markdown",
      "metadata": {
        "id": "view-in-github",
        "colab_type": "text"
      },
      "source": [
        "<a href=\"https://colab.research.google.com/github/Rustam86/Home-works-HSE/blob/main/Untitled.ipynb\" target=\"_parent\"><img src=\"https://colab.research.google.com/assets/colab-badge.svg\" alt=\"Open In Colab\"/></a>"
      ]
    },
    {
      "cell_type": "markdown",
      "id": "ee0683b6",
      "metadata": {
        "id": "ee0683b6"
      },
      "source": [
        "# Отчет к домашнему заданию № 2. Гейдаров Р.Н.\n",
        "\n",
        "Все вычисления проводились с использованием Python (версия 3.8.10) и библиотек numpy (версия 1.22.4), scipy (версия 1.10.1), pandas (версия 1.3.5)"
      ]
    },
    {
      "cell_type": "code",
      "source": [
        "import numpy as np\n",
        "import pandas as pd\n",
        "from scipy.stats import binom, ttest_1samp, ttest_ind"
      ],
      "metadata": {
        "id": "nTBLlCQyi53T"
      },
      "id": "nTBLlCQyi53T",
      "execution_count": null,
      "outputs": []
    },
    {
      "cell_type": "markdown",
      "id": "bdcb1510",
      "metadata": {
        "id": "bdcb1510"
      },
      "source": [
        "## Задача 1\n",
        "\n",
        "Примем, что сосны в лесу распределены случайно. Тогда, количество сосен на участок должно быть распределено по Пуассону. Сравнив распределение сосен в условии задачи со  случайными выборками сосен из распределения Пуассона, мы сможжем показать, сушественно ли отличие. Сравнивать будем разброс количества сосен на участках. Параметр распределения ${\\lambda}$ оцениваем по имеющейся выборке. Сделаем 10 000 сравнений разброса из условия задачи с разбросами для групп из распределения пуассона."
      ]
    },
    {
      "cell_type": "code",
      "execution_count": null,
      "id": "734211cd",
      "metadata": {
        "id": "734211cd",
        "outputId": "0fe9d066-479a-4472-c744-83d5f802acaf"
      },
      "outputs": [
        {
          "name": "stdout",
          "output_type": "stream",
          "text": [
            "lmbd = 11.857142857142858\n",
            "tr_range = 10\n"
          ]
        }
      ],
      "source": [
        "# Список с количествами сосен на участках\n",
        "tr = [7, 12, 9, 17, 10, 13, 15]\n",
        "\n",
        "# Параметр распределения\n",
        "lmbd = sum(tr)/len(tr)\n",
        "print(f\"lmbd = {lmbd}\")\n",
        "\n",
        "# Разброс\n",
        "tr_range = max(tr) - min(tr)\n",
        "print(f\"tr_range = {tr_range}\")"
      ]
    },
    {
      "cell_type": "code",
      "execution_count": null,
      "id": "ecf7aa9a",
      "metadata": {
        "id": "ecf7aa9a",
        "outputId": "c502f49c-aeff-41d9-eb52-29d662356a9e"
      },
      "outputs": [
        {
          "name": "stdout",
          "output_type": "stream",
          "text": [
            "prob_of_greater_res = 0.4354\n"
          ]
        }
      ],
      "source": [
        "import numpy as np\n",
        "\n",
        "# Счетчик для случаев клгда разброс для выборок из распределения не меньше\n",
        "samples_with_greater_range = 0\n",
        "number_of_trials = 10**4\n",
        "\n",
        "for i in range(number_of_trials):\n",
        "    # Выборки из распределения\n",
        "    tr_sample = np.random.poisson(lam=lmbd, size=len(tr))\n",
        "    # Размах\n",
        "    tr_sample_range = max(tr_sample) - min(tr_sample)\n",
        "    if tr_sample_range >= tr_range:\n",
        "        samples_with_greater_range += 1\n",
        "\n",
        "# Вероятность получить разброс количества деревьев как в условии задачи или больше\n",
        "prob_of_greater_res = samples_with_greater_range/number_of_trials\n",
        "print(f\"prob_of_greater_res = {prob_of_greater_res}\")"
      ]
    },
    {
      "cell_type": "markdown",
      "id": "a4780205",
      "metadata": {
        "id": "a4780205"
      },
      "source": [
        "### Ответ: так как вероятность встретить такой же или больше разброс в распределении Пуасона составила 0.4354, что много, можно сделеать вывод, что в выдобке из условия задачи число сосен варьирует незначительно"
      ]
    },
    {
      "cell_type": "markdown",
      "id": "86193a1a",
      "metadata": {
        "id": "86193a1a"
      },
      "source": [
        "## Задача 2\n",
        "\n",
        "Так как в эксперименте проводится сразу несколько тестов, нужно внести поправки на множественное сравнение. Самой простой из которых является поправка Бонферрони."
      ]
    },
    {
      "cell_type": "code",
      "execution_count": null,
      "id": "09c365b8",
      "metadata": {
        "id": "09c365b8",
        "outputId": "239b958b-e335-4118-b8c3-ad79df1d63b9"
      },
      "outputs": [
        {
          "name": "stdout",
          "output_type": "stream",
          "text": [
            "[0.045, 0.029, 0.0062, 0.52, 0.26, 0.017, 0.0081, 0.14]\n",
            "[0.36, 0.232, 0.0496, 4.16, 2.08, 0.136, 0.0648, 1.12]\n"
          ]
        }
      ],
      "source": [
        "# список p-значений до поправок\n",
        "unadjusted_pval = [0.0450, 0.0290, 0.0062, 0.5200, 0.2600, 0.0170, 0.0081, 0.1400]\n",
        "# список p-значений после поправок\n",
        "adjusted_pval = [i*len(unadjusted_pval) for i in unadjusted_pval]\n",
        "\n",
        "print(unadjusted_pval)\n",
        "print(adjusted_pval)"
      ]
    },
    {
      "cell_type": "markdown",
      "id": "35e87783",
      "metadata": {
        "id": "35e87783"
      },
      "source": [
        "### Ответ: в условии данного эксперимента на уровне значимости 0.0062 (после поправки - 0.0496) можно утверждать, что препарат имеет эффект"
      ]
    },
    {
      "cell_type": "markdown",
      "id": "6452de04",
      "metadata": {
        "id": "6452de04"
      },
      "source": [
        "## Задача 3\n",
        "\n",
        "При условии, что нуклеодтиды распределены случайно, их последовательности можно рассматривать как испытания бернулли, т.е. динуклеотиды имеют биномиальное распределение. В условиях задачи, количестов испытаний равно 29902 - 2 + 1, а количество успехов для ТА - 2377.\n",
        "\n",
        "Посчитаем, какое количество успехов мы ожидаем, в случае если нуклеотиды не связаны, а появляются независимо:"
      ]
    },
    {
      "cell_type": "code",
      "execution_count": null,
      "id": "8711fb97",
      "metadata": {
        "colab": {
          "base_uri": "https://localhost:8080/"
        },
        "id": "8711fb97",
        "outputId": "84b7af24-c578-43d7-8b1f-6585af71adc8"
      },
      "outputs": [
        {
          "output_type": "stream",
          "name": "stdout",
          "text": [
            "Вероятность нуклеотида А: 0.29943483931378123\n",
            "Вероятность нуклеотида T: 0.32083737417650404\n",
            "Вероятность динуклеотида TA: 0.096069887582397\n"
          ]
        }
      ],
      "source": [
        "# Размер генома\n",
        "genome_size = 29903\n",
        "# Количество нуклеотидов А\n",
        "count_A = 8954\n",
        "# Количество нуклеотидов Т\n",
        "count_T = 9594\n",
        "\n",
        "# Вероятность нуклеотида А\n",
        "freq_A = count_A/genome_size\n",
        "print(f\"Вероятность нуклеотида А: {freq_A}\")\n",
        "# Вероятность нуклеотида Т\n",
        "freq_T = count_T/genome_size\n",
        "print(f\"Вероятность нуклеотида T: {freq_T}\")\n",
        "# Вероятность динуклеотида TA\n",
        "prob_TA = freq_A*freq_T\n",
        "print(f\"Вероятность динуклеотида TA: {prob_TA}\")"
      ]
    },
    {
      "cell_type": "markdown",
      "source": [
        "Получается, что матожидание количества TA составляет 2872.68, что больше наблюдаемого количества TA"
      ],
      "metadata": {
        "id": "jZm2Xt9Ej6L6"
      },
      "id": "jZm2Xt9Ej6L6"
    },
    {
      "cell_type": "code",
      "source": [
        "# Количество испытаний\n",
        "num_trials = genome_size - 2 + 1\n",
        "# Матожидание количества успехов\n",
        "expected_count = prob_TA*num_trials\n",
        "\n",
        "print(f\"матожидание количества TA: {expected_count}\")"
      ],
      "metadata": {
        "colab": {
          "base_uri": "https://localhost:8080/"
        },
        "id": "zDiDZmA2kXZ6",
        "outputId": "01ca04fe-516f-43ea-9b86-06df6e05521c"
      },
      "id": "zDiDZmA2kXZ6",
      "execution_count": null,
      "outputs": [
        {
          "output_type": "stream",
          "name": "stdout",
          "text": [
            "матожидание количества TA: 2872.681778488835\n"
          ]
        }
      ]
    },
    {
      "cell_type": "markdown",
      "source": [
        "Посчитаем вероятность получить такое или меньшее количество динуклеотидов TA и получим - 8.88e-24, очень маленькая вероятность."
      ],
      "metadata": {
        "id": "qffhCajNo-4-"
      },
      "id": "qffhCajNo-4-"
    },
    {
      "cell_type": "code",
      "source": [
        "cum_prob = sum(binom.pmf(k=i, n=num_trials, p=prob_TA) for i in range(2378))\n",
        "print(f\"Вероятность получить такое же или меньшее количество динуклеотидов TA: {cum_prob}\")"
      ],
      "metadata": {
        "colab": {
          "base_uri": "https://localhost:8080/"
        },
        "id": "JLSUInpCpIv-",
        "outputId": "845b1335-c2dd-4446-b646-38ed8e468024"
      },
      "id": "JLSUInpCpIv-",
      "execution_count": null,
      "outputs": [
        {
          "output_type": "stream",
          "name": "stdout",
          "text": [
            "Вероятность получить такое же или меньшее количество динуклеотидов TA: 8.882565625300203e-24\n"
          ]
        }
      ]
    },
    {
      "cell_type": "markdown",
      "source": [
        "### Ответ: динуклеотид ТА в геноме SARS-CoV-2 встречается значительно реже, чем, ожидалось бы при независимом распределении нуклеотидов"
      ],
      "metadata": {
        "id": "GWgs35wGw0BU"
      },
      "id": "GWgs35wGw0BU"
    },
    {
      "cell_type": "markdown",
      "source": [
        "## Задача 4"
      ],
      "metadata": {
        "id": "ahYSgIHyw5xn"
      },
      "id": "ahYSgIHyw5xn"
    },
    {
      "cell_type": "code",
      "source": [
        "#Скачиваем файл task2_4.txt\n",
        "import gdown\n",
        "gdown.download(\"https://drive.google.com/uc?id=1d4iqZKcViLid0rdPCOhaNAHO3XMBK5KI\", \"task2_4.txt\")"
      ],
      "metadata": {
        "id": "KHAO6KkMxnQ5"
      },
      "id": "KHAO6KkMxnQ5",
      "execution_count": null,
      "outputs": []
    },
    {
      "cell_type": "code",
      "source": [
        "data = pd.read_csv(\"/content/task2_4.txt\")"
      ],
      "metadata": {
        "id": "6rK7OZhTyKfr"
      },
      "id": "6rK7OZhTyKfr",
      "execution_count": null,
      "outputs": []
    },
    {
      "cell_type": "code",
      "source": [
        "#Посмотрим на распределение значений температуры\n",
        "data.plot.kde();"
      ],
      "metadata": {
        "colab": {
          "base_uri": "https://localhost:8080/",
          "height": 268
        },
        "id": "x1YCNQOk-T7N",
        "outputId": "c336c739-819a-4673-be2d-e566384f8374"
      },
      "id": "x1YCNQOk-T7N",
      "execution_count": null,
      "outputs": [
        {
          "output_type": "display_data",
          "data": {
            "text/plain": [
              "<Figure size 432x288 with 1 Axes>"
            ],
            "image/png": "[encoded data removed]"
          },
          "metadata": {
            "needs_background": "light"
          }
        }
      ]
    },
    {
      "cell_type": "markdown",
      "source": [
        "Распределение напоминает нормальное, будем считать что и генеральная совокупность распределена нормально.\n",
        "Применим t-тест"
      ],
      "metadata": {
        "id": "iWI8ThtR_Q3b"
      },
      "id": "iWI8ThtR_Q3b"
    },
    {
      "cell_type": "code",
      "source": [
        "#Среднее по многолетним наблюдениям\n",
        "popmean = 61.5\n",
        "#Проверка нулевой гипотезы о том, что ожидаемое значение (среднее значение) выборки независимых наблюдений (data) равно заданному среднему значению популяции (popmean).\n",
        "tt = ttest_1samp(data, popmean=popmean)\n",
        "print(\"Результаты t-теста\")\n",
        "print(\"--------------------------------\")\n",
        "print(f\"t-значение: {tt.statistic[0]}\")\n",
        "print(f\"p-значение: {tt.pvalue[0]}\")\n",
        "print(f\"степени свободы: {tt.df[0]}\")"
      ],
      "metadata": {
        "id": "rcM4KSKB_qbG",
        "colab": {
          "base_uri": "https://localhost:8080/"
        },
        "outputId": "d23d4fbb-8e6a-48b1-d375-8ba20b41e491"
      },
      "id": "rcM4KSKB_qbG",
      "execution_count": null,
      "outputs": [
        {
          "output_type": "stream",
          "name": "stdout",
          "text": [
            "Результаты t-теста\n",
            "--------------------------------\n",
            "t-значение: -1.8534276810853527\n",
            "p-значение: 0.08028585110418408\n",
            "степени свободы: 18\n"
          ]
        }
      ]
    },
    {
      "cell_type": "markdown",
      "source": [
        "### Ответ: p-значение равно 0.0803, что при уровне значимости 0.05 не позволяет сказать, что землетресение повлияло на источник. Если бы уровень значимости $α$ был больше 0.0803, то полученные отличия были бы значимы. "
      ],
      "metadata": {
        "id": "a-tRGSQmFFWn"
      },
      "id": "a-tRGSQmFFWn"
    },
    {
      "cell_type": "markdown",
      "source": [
        "## Задача 5"
      ],
      "metadata": {
        "id": "FV_tgbvKGzql"
      },
      "id": "FV_tgbvKGzql"
    },
    {
      "cell_type": "code",
      "source": [
        "#Скачиваем файл task2_5.txt\n",
        "import gdown\n",
        "gdown.download(\"https://drive.google.com/uc?id=1vaye-iaIY0IBf2hfKjIFGrIVP7xOoOtO\", \"task2_5.txt\")"
      ],
      "metadata": {
        "id": "QX7RClgzHLj9"
      },
      "id": "QX7RClgzHLj9",
      "execution_count": null,
      "outputs": []
    },
    {
      "cell_type": "markdown",
      "source": [
        "Немного меняем содержимов файла, приводя к табличной форме."
      ],
      "metadata": {
        "id": "vYuLyCBjJwi1"
      },
      "id": "vYuLyCBjJwi1"
    },
    {
      "cell_type": "code",
      "source": [
        "data = pd.read_csv(\"/content/task2_5.txt\")\n",
        "data"
      ],
      "metadata": {
        "colab": {
          "base_uri": "https://localhost:8080/",
          "height": 802
        },
        "id": "eFfVrObFJ5GL",
        "outputId": "34f90364-2cc8-4a81-de94-19b0a837a521"
      },
      "id": "eFfVrObFJ5GL",
      "execution_count": null,
      "outputs": [
        {
          "output_type": "execute_result",
          "data": {
            "text/plain": [
              "    factory 1  factory 2\n",
              "0        2.49       3.37\n",
              "1        1.01       2.12\n",
              "2        2.81       3.08\n",
              "3        2.60       3.57\n",
              "4        3.09       4.79\n",
              "5        4.60       1.60\n",
              "6        2.50       3.71\n",
              "7        1.18       5.48\n",
              "8        2.20       3.06\n",
              "9        3.12       5.76\n",
              "10       2.90       3.86\n",
              "11       3.58       4.43\n",
              "12       2.89       3.77\n",
              "13       4.48       4.59\n",
              "14       2.17       2.80\n",
              "15       1.26       4.11\n",
              "16       2.63       3.70\n",
              "17       1.17       2.36\n",
              "18       1.72       4.83\n",
              "19       1.71       2.33\n",
              "20       2.45        NaN\n",
              "21       3.75        NaN\n",
              "22       3.31        NaN\n",
              "23       3.23        NaN"
            ],
            "text/html": [
              "\n",
              "  <div id=\"df-d418b108-8214-49dc-8f6a-778b838f47bc\">\n",
              "    <div class=\"colab-df-container\">\n",
              "      <div>\n",
              "<style scoped>\n",
              "    .dataframe tbody tr th:only-of-type {\n",
              "        vertical-align: middle;\n",
              "    }\n",
              "\n",
              "    .dataframe tbody tr th {\n",
              "        vertical-align: top;\n",
              "    }\n",
              "\n",
              "    .dataframe thead th {\n",
              "        text-align: right;\n",
              "    }\n",
              "</style>\n",
              "<table border=\"1\" class=\"dataframe\">\n",
              "  <thead>\n",
              "    <tr style=\"text-align: right;\">\n",
              "      <th></th>\n",
              "      <th>factory 1</th>\n",
              "      <th>factory 2</th>\n",
              "    </tr>\n",
              "  </thead>\n",
              "  <tbody>\n",
              "    <tr>\n",
              "      <th>0</th>\n",
              "      <td>2.49</td>\n",
              "      <td>3.37</td>\n",
              "    </tr>\n",
              "    <tr>\n",
              "      <th>1</th>\n",
              "      <td>1.01</td>\n",
              "      <td>2.12</td>\n",
              "    </tr>\n",
              "    <tr>\n",
              "      <th>2</th>\n",
              "      <td>2.81</td>\n",
              "      <td>3.08</td>\n",
              "    </tr>\n",
              "    <tr>\n",
              "      <th>3</th>\n",
              "      <td>2.60</td>\n",
              "      <td>3.57</td>\n",
              "    </tr>\n",
              "    <tr>\n",
              "      <th>4</th>\n",
              "      <td>3.09</td>\n",
              "      <td>4.79</td>\n",
              "    </tr>\n",
              "    <tr>\n",
              "      <th>5</th>\n",
              "      <td>4.60</td>\n",
              "      <td>1.60</td>\n",
              "    </tr>\n",
              "    <tr>\n",
              "      <th>6</th>\n",
              "      <td>2.50</td>\n",
              "      <td>3.71</td>\n",
              "    </tr>\n",
              "    <tr>\n",
              "      <th>7</th>\n",
              "      <td>1.18</td>\n",
              "      <td>5.48</td>\n",
              "    </tr>\n",
              "    <tr>\n",
              "      <th>8</th>\n",
              "      <td>2.20</td>\n",
              "      <td>3.06</td>\n",
              "    </tr>\n",
              "    <tr>\n",
              "      <th>9</th>\n",
              "      <td>3.12</td>\n",
              "      <td>5.76</td>\n",
              "    </tr>\n",
              "    <tr>\n",
              "      <th>10</th>\n",
              "      <td>2.90</td>\n",
              "      <td>3.86</td>\n",
              "    </tr>\n",
              "    <tr>\n",
              "      <th>11</th>\n",
              "      <td>3.58</td>\n",
              "      <td>4.43</td>\n",
              "    </tr>\n",
              "    <tr>\n",
              "      <th>12</th>\n",
              "      <td>2.89</td>\n",
              "      <td>3.77</td>\n",
              "    </tr>\n",
              "    <tr>\n",
              "      <th>13</th>\n",
              "      <td>4.48</td>\n",
              "      <td>4.59</td>\n",
              "    </tr>\n",
              "    <tr>\n",
              "      <th>14</th>\n",
              "      <td>2.17</td>\n",
              "      <td>2.80</td>\n",
              "    </tr>\n",
              "    <tr>\n",
              "      <th>15</th>\n",
              "      <td>1.26</td>\n",
              "      <td>4.11</td>\n",
              "    </tr>\n",
              "    <tr>\n",
              "      <th>16</th>\n",
              "      <td>2.63</td>\n",
              "      <td>3.70</td>\n",
              "    </tr>\n",
              "    <tr>\n",
              "      <th>17</th>\n",
              "      <td>1.17</td>\n",
              "      <td>2.36</td>\n",
              "    </tr>\n",
              "    <tr>\n",
              "      <th>18</th>\n",
              "      <td>1.72</td>\n",
              "      <td>4.83</td>\n",
              "    </tr>\n",
              "    <tr>\n",
              "      <th>19</th>\n",
              "      <td>1.71</td>\n",
              "      <td>2.33</td>\n",
              "    </tr>\n",
              "    <tr>\n",
              "      <th>20</th>\n",
              "      <td>2.45</td>\n",
              "      <td>NaN</td>\n",
              "    </tr>\n",
              "    <tr>\n",
              "      <th>21</th>\n",
              "      <td>3.75</td>\n",
              "      <td>NaN</td>\n",
              "    </tr>\n",
              "    <tr>\n",
              "      <th>22</th>\n",
              "      <td>3.31</td>\n",
              "      <td>NaN</td>\n",
              "    </tr>\n",
              "    <tr>\n",
              "      <th>23</th>\n",
              "      <td>3.23</td>\n",
              "      <td>NaN</td>\n",
              "    </tr>\n",
              "  </tbody>\n",
              "</table>\n",
              "</div>\n",
              "      <button class=\"colab-df-convert\" onclick=\"convertToInteractive('df-d418b108-8214-49dc-8f6a-778b838f47bc')\"\n",
              "              title=\"Convert this dataframe to an interactive table.\"\n",
              "              style=\"display:none;\">\n",
              "        \n",
              "  <svg xmlns=\"http://www.w3.org/2000/svg\" height=\"24px\"viewBox=\"0 0 24 24\"\n",
              "       width=\"24px\">\n",
              "    <path d=\"M0 0h24v24H0V0z\" fill=\"none\"/>\n",
              "    <path d=\"M18.56 5.44l.94 2.06.94-2.06 2.06-.94-2.06-.94-.94-2.06-.94 2.06-2.06.94zm-11 1L8.5 8.5l.94-2.06 2.06-.94-2.06-.94L8.5 2.5l-.94 2.06-2.06.94zm10 10l.94 2.06.94-2.06 2.06-.94-2.06-.94-.94-2.06-.94 2.06-2.06.94z\"/><path d=\"M17.41 7.96l-1.37-1.37c-.4-.4-.92-.59-1.43-.59-.52 0-1.04.2-1.43.59L10.3 9.45l-7.72 7.72c-.78.78-.78 2.05 0 2.83L4 21.41c.39.39.9.59 1.41.59.51 0 1.02-.2 1.41-.59l7.78-7.78 2.81-2.81c.8-.78.8-2.07 0-2.86zM5.41 20L4 18.59l7.72-7.72 1.47 1.35L5.41 20z\"/>\n",
              "  </svg>\n",
              "      </button>\n",
              "      \n",
              "  <style>\n",
              "    .colab-df-container {\n",
              "      display:flex;\n",
              "      flex-wrap:wrap;\n",
              "      gap: 12px;\n",
              "    }\n",
              "\n",
              "    .colab-df-convert {\n",
              "      background-color: #E8F0FE;\n",
              "      border: none;\n",
              "      border-radius: 50%;\n",
              "      cursor: pointer;\n",
              "      display: none;\n",
              "      fill: #1967D2;\n",
              "      height: 32px;\n",
              "      padding: 0 0 0 0;\n",
              "      width: 32px;\n",
              "    }\n",
              "\n",
              "    .colab-df-convert:hover {\n",
              "      background-color: #E2EBFA;\n",
              "      box-shadow: 0px 1px 2px rgba(60, 64, 67, 0.3), 0px 1px 3px 1px rgba(60, 64, 67, 0.15);\n",
              "      fill: #174EA6;\n",
              "    }\n",
              "\n",
              "    [theme=dark] .colab-df-convert {\n",
              "      background-color: #3B4455;\n",
              "      fill: #D2E3FC;\n",
              "    }\n",
              "\n",
              "    [theme=dark] .colab-df-convert:hover {\n",
              "      background-color: #434B5C;\n",
              "      box-shadow: 0px 1px 3px 1px rgba(0, 0, 0, 0.15);\n",
              "      filter: drop-shadow(0px 1px 2px rgba(0, 0, 0, 0.3));\n",
              "      fill: #FFFFFF;\n",
              "    }\n",
              "  </style>\n",
              "\n",
              "      <script>\n",
              "        const buttonEl =\n",
              "          document.querySelector('#df-d418b108-8214-49dc-8f6a-778b838f47bc button.colab-df-convert');\n",
              "        buttonEl.style.display =\n",
              "          google.colab.kernel.accessAllowed ? 'block' : 'none';\n",
              "\n",
              "        async function convertToInteractive(key) {\n",
              "          const element = document.querySelector('#df-d418b108-8214-49dc-8f6a-778b838f47bc');\n",
              "          const dataTable =\n",
              "            await google.colab.kernel.invokeFunction('convertToInteractive',\n",
              "                                                     [key], {});\n",
              "          if (!dataTable) return;\n",
              "\n",
              "          const docLinkHtml = 'Like what you see? Visit the ' +\n",
              "            '<a target=\"_blank\" href=https://colab.research.google.com/notebooks/data_table.ipynb>data table notebook</a>'\n",
              "            + ' to learn more about interactive tables.';\n",
              "          element.innerHTML = '';\n",
              "          dataTable['output_type'] = 'display_data';\n",
              "          await google.colab.output.renderOutput(dataTable, element);\n",
              "          const docLink = document.createElement('div');\n",
              "          docLink.innerHTML = docLinkHtml;\n",
              "          element.appendChild(docLink);\n",
              "        }\n",
              "      </script>\n",
              "    </div>\n",
              "  </div>\n",
              "  "
            ]
          },
          "metadata": {},
          "execution_count": 106
        }
      ]
    },
    {
      "cell_type": "code",
      "source": [
        "#Посмотрим на распределение значений сил натяжений\n",
        "data.plot.kde();"
      ],
      "metadata": {
        "colab": {
          "base_uri": "https://localhost:8080/",
          "height": 265
        },
        "id": "zcOJYgFqHhL0",
        "outputId": "268c7192-50f3-4cc2-e5c8-81159655e32a"
      },
      "id": "zcOJYgFqHhL0",
      "execution_count": null,
      "outputs": [
        {
          "output_type": "display_data",
          "data": {
            "text/plain": [
              "<Figure size 432x288 with 1 Axes>"
            ],
            "image/png": "[encoded data removed]"
          },
          "metadata": {
            "needs_background": "light"
          }
        }
      ]
    },
    {
      "cell_type": "markdown",
      "source": [
        "Распределения похож на нормальные, применим t-тест"
      ],
      "metadata": {
        "id": "7ix_m5d8KhwL"
      },
      "id": "7ix_m5d8KhwL"
    },
    {
      "cell_type": "code",
      "source": [
        "# Данны для завода 1\n",
        "data_group1 = data['factory 1']\n",
        "# Данны для завода 2\n",
        "data_group2 = data['factory 2'].dropna()\n",
        "ttest_ind(data_group1, data_group2)"
      ],
      "metadata": {
        "colab": {
          "base_uri": "https://localhost:8080/"
        },
        "id": "w5h0UPJvKf_1",
        "outputId": "ffe064ad-552f-4a73-d9da-88fe86a8a08b"
      },
      "id": "w5h0UPJvKf_1",
      "execution_count": 148,
      "outputs": [
        {
          "output_type": "execute_result",
          "data": {
            "text/plain": [
              "Ttest_indResult(statistic=-3.3244696667485982, pvalue=0.0018451142120997082)"
            ]
          },
          "metadata": {},
          "execution_count": 148
        }
      ]
    },
    {
      "cell_type": "markdown",
      "source": [
        "### Ответ: p-значение равно 0.00185, что при уровне значимости 0.05 означает, что належность болтов с двух заводов отличается значимо."
      ],
      "metadata": {
        "id": "f67Co-_QO0oC"
      },
      "id": "f67Co-_QO0oC"
    }
  ],
  "metadata": {
    "kernelspec": {
      "display_name": "Python 3 (ipykernel)",
      "language": "python",
      "name": "python3"
    },
    "language_info": {
      "codemirror_mode": {
        "name": "ipython",
        "version": 3
      },
      "file_extension": ".py",
      "mimetype": "text/x-python",
      "name": "python",
      "nbconvert_exporter": "python",
      "pygments_lexer": "ipython3",
      "version": "3.11.1"
    },
    "colab": {
      "provenance": [],
      "include_colab_link": true
    }
  },
  "nbformat": 4,
  "nbformat_minor": 5
}